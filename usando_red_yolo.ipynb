{
  "cells": [
    {
      "cell_type": "markdown",
      "metadata": {
        "id": "4Yg9mINdTj0x"
      },
      "source": [
        "### Clonamos o diretório darknet"
      ]
    },
    {
      "cell_type": "code",
      "execution_count": null,
      "metadata": {
        "colab": {
          "base_uri": "https://localhost:8080/"
        },
        "collapsed": true,
        "id": "PLq452tDhx8f",
        "outputId": "6e3ad0bd-c3d9-4718-88db-08dea4a965a7"
      },
      "outputs": [],
      "source": [
        "!git clone https://github.com/AlexeyAB/darknet.git"
      ]
    },
    {
      "cell_type": "markdown",
      "metadata": {
        "id": "vs0n0ih3TzG6"
      },
      "source": [
        "### entrando no diretório do darknet"
      ]
    },
    {
      "cell_type": "code",
      "execution_count": null,
      "metadata": {
        "colab": {
          "base_uri": "https://localhost:8080/"
        },
        "collapsed": true,
        "id": "UCAUlclYiJhK",
        "outputId": "4bc4456f-334e-47c7-bf1a-2bbd2ce98ee9"
      },
      "outputs": [],
      "source": [
        "cd darknet"
      ]
    },
    {
      "cell_type": "markdown",
      "metadata": {
        "id": "kf1I6ljhT4h7"
      },
      "source": [
        "### caso tenha uma GPU com suporte a CUDA abra o arquivo Makefile e mude as propriedades GPU=0 para 1, CUDNN=0 para 1, CUDNN_HALF=1 e compile o modelo usando o comando abaixo"
      ]
    },
    {
      "cell_type": "code",
      "execution_count": null,
      "metadata": {
        "colab": {
          "base_uri": "https://localhost:8080/"
        },
        "collapsed": true,
        "id": "HqpyQdjziS0p",
        "outputId": "d02eafce-c389-440d-d35a-e8a5ebbcee21"
      },
      "outputs": [],
      "source": [
        "!make"
      ]
    },
    {
      "cell_type": "markdown",
      "metadata": {
        "id": "yNrsXn2QUbDn"
      },
      "source": [
        "1. crie um arquivo myprog.cfg com o mesmo conteudo do arquivo yolov4-custom.cfg\n",
        "\n",
        "2. mude o valor de max_batches para <numero de classes> * 2000\n",
        "\n",
        "3. mude o valor de step para \"80% do valor de max_batches\" , \"90% do valor de max_batches\"\n",
        "\n",
        "4. mude width e height para um valor multiplo de 32. Ex: 416\n",
        "\n",
        "5. nos 3 blocos [convolutional] mude o valor de filters de 255 para (classes + 5)x3 e dos 3 blocos [yolo] o valor de classes para o seu numero de classes\n",
        "\n",
        "6. crie um arquivo myprog.cfg em build\\darknet\\x64\\data\\ com o nome das classes, cada um por linha.\n",
        "\n",
        "7. crie um arquivo myprog.data em build\\darknet\\x64\\data\\ configurando de acorde com sua necessidade no seguinte formato:<br>\n",
        "   classes = (numero de classes)<br>\n",
        "   train  = caminho/para/arquivo/train.txt<br>\n",
        "   valid  = caminho/para/arquivo/test.txt<br>\n",
        "   names = caminho/para/myprog.names<br>\n",
        "   backup = backup/\n",
        "\n",
        "8. coloque suas imagens em build\\darknet\\x64\\data\\myprog\\ use uma ferramento como o labelImg ou o label-studio para criar o seu dataset rotulado de forma simples para o yolo.\n",
        "Com uma dessas ferramentas vc tera as imagens acompanhadas de arquivos txt contendo as cordenadas da bounding box e a classe\n",
        "no formato \"object-class\" \"x_center\" \"y_center\" \"width\" \"height\"\n",
        "\n",
        "9. crie um arqui train.txt e test.txt em build\\darknet\\x64\\data\\ contendo os caminho completo para as imagens correspondentes\n",
        "\n",
        "10. baixe os pesos do [yolo4.conv.137](https://github.com/AlexeyAB/darknet/releases/download/darknet_yolo_v3_optimal/yolov4.conv.137) e coloque em build\\darknet\\x64"
      ]
    },
    {
      "cell_type": "markdown",
      "metadata": {
        "id": "zY9iYDW9bkoa"
      },
      "source": [
        "### estando tudo configurado use o comando para iniciar o treinamento\n",
        "obs: no meu computador (i5 2500k + 16RAM sem GPU com CUDA)o treinamento foi previsto para uma estimativa de quase 1 semanda então tenha em mente que dependendo da sua maquina pode demorar bastante."
      ]
    },
    {
      "cell_type": "code",
      "execution_count": null,
      "metadata": {
        "colab": {
          "background_save": true,
          "base_uri": "https://localhost:8080/"
        },
        "collapsed": true,
        "id": "BDQ39yq4infn",
        "outputId": "ba7e2015-3864-4a28-b113-0403917c3760"
      },
      "outputs": [],
      "source": [
        "!./darknet detector train build/darknet/x64/data/myprog.data cfg/myprog.cfg build/darknet/x64/yolov4.conv.137"
      ]
    },
    {
      "cell_type": "markdown",
      "metadata": {
        "id": "Iu9gS8fyNxbc"
      },
      "source": [
        "### Testando"
      ]
    },
    {
      "cell_type": "code",
      "execution_count": null,
      "metadata": {
        "colab": {
          "base_uri": "https://localhost:8080/"
        },
        "id": "IAVMChJymzKa",
        "outputId": "6fe34301-db12-4abe-e619-55eee7d90a64"
      },
      "outputs": [],
      "source": [
        "!./darknet detector map build/darknet/x64/data/myprog.data cfg/myprog.cfg build/darknet/x64/yolov4.conv.137"
      ]
    },
    {
      "cell_type": "markdown",
      "metadata": {
        "id": "tjD-4zM7dlKI"
      },
      "source": [
        "### para usar o modelo treinado em uma imagem especifica use o seguinte comando:"
      ]
    },
    {
      "cell_type": "code",
      "execution_count": null,
      "metadata": {
        "id": "CHxEB39gO-qs"
      },
      "outputs": [],
      "source": [
        "!python darknet_images.py --weights ./backup/myprog_last.weights \\\n",
        "                         --data_file build/darknet/x64/data/myprog.data \\\n",
        "                         --config_file cfg/myprog.cfg \\\n",
        "                         --input /caminho/para/img\n"
      ]
    }
  ],
  "metadata": {
    "accelerator": "GPU",
    "colab": {
      "provenance": []
    },
    "kernelspec": {
      "display_name": "Python 3",
      "name": "python3"
    },
    "language_info": {
      "name": "python"
    }
  },
  "nbformat": 4,
  "nbformat_minor": 0
}
